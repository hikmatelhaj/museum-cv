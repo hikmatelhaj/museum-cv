{
 "cells": [
  {
   "cell_type": "code",
   "execution_count": 91,
   "id": "00f2225b",
   "metadata": {},
   "outputs": [],
   "source": [
    "# imports\n",
    "import cv2 as cv\n",
    "import numpy as np\n",
    "import pandas as pd\n",
    "import os\n"
   ]
  },
  {
   "cell_type": "code",
   "execution_count": 94,
   "id": "fc3f502f",
   "metadata": {},
   "outputs": [],
   "source": [
    "def findPainting(image):\n",
    "#     Get edges and make them wider\n",
    "    edges = cv.Canny(gray, 33, 70)\n",
    "    dilated = cv.dilate(edges, np.ones((3,3), np.uint8))\n",
    "    \n",
    "#     Get all contours of the edges\n",
    "    contours, hierarchy = cv.findContours(dilated, cv.RETR_EXTERNAL, cv.CHAIN_APPROX_SIMPLE)\n",
    "    contours = sorted(contours, key=cv.contourArea, reverse=True)[:10]\n",
    "    \n",
    "#     Check for every contour if it is a polygon with 4 corners\n",
    "    for c in contours:\n",
    "        app = cv.approxPolyDP(c, 0.05*cv.arcLength(c, True), True)\n",
    "        if len(app) == 4:\n",
    "            break\n",
    "    app = app.reshape(4,2)\n",
    "    \n",
    "#     Get the transformation matrix and execute the transformation on the image to obtain a translated painting\n",
    "    width = np.max(app[:,0]) - np.min(app[:,0])\n",
    "    height = np.max(app[:,1]) - np.min(app[:,1])\n",
    "    M = cv.getPerspectiveTransform(np.float32(app), np.float32([[0,0],[0,height],[width,height],[width,0]]))\n",
    "    result = cv.warpPerspective(image,M,(width, height),flags=cv.INTER_LINEAR)\n",
    "    \n",
    "    return result"
   ]
  },
  {
   "cell_type": "code",
   "execution_count": 95,
   "id": "57b51891",
   "metadata": {},
   "outputs": [],
   "source": [
    "image_path = \"./Database/Computervisie 2020 Project Database/dataset_pictures_msk\"\n",
    "db_log = pd.DataFrame(\"./Database_log.csv\")\n",
    "\n",
    "for row in db_log:\n",
    "    image = cv.imread(image_path+'/'+row[0]+'/'+row[1]+\".png\")\n",
    "    image_copy = image.copy()\n",
    "    cv.imshow(\"titel eerst\", image)\n",
    "    cv.waitKey()\n",
    "    gray = cv.cvtColor(image, cv.COLOR_BGR2GRAY)\n",
    "    result = findPainting(image)\n",
    "    cv.imshow(\"titel tweed\", result)\n",
    "    cv.waitKey()\n",
    "\n",
    "cv.destroyAllWindows()"
   ]
  },
  {
   "cell_type": "code",
   "execution_count": null,
   "id": "3640234a",
   "metadata": {},
   "outputs": [],
   "source": []
  }
 ],
 "metadata": {
  "kernelspec": {
   "display_name": "Python 3 (ipykernel)",
   "language": "python",
   "name": "python3"
  },
  "language_info": {
   "codemirror_mode": {
    "name": "ipython",
    "version": 3
   },
   "file_extension": ".py",
   "mimetype": "text/x-python",
   "name": "python",
   "nbconvert_exporter": "python",
   "pygments_lexer": "ipython3",
   "version": "3.9.15"
  }
 },
 "nbformat": 4,
 "nbformat_minor": 5
}
